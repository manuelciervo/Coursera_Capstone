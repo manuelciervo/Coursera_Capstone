{
 "cells": [
  {
   "cell_type": "markdown",
   "metadata": {},
   "source": [
    "<h1>Capstone Project Data Science</h1>\n",
    "\n",
    "<h2>The Battle of Neighborhoods</h2>\n",
    "\n",
    "<h3>New Italian Restaurant in San Francisco, United States of America</h3>\n",
    "\n",
    "<h4>Business problem</h4>\n",
    "\n",
    "\n",
    "San Francisco is the city of my dreams and I think it might be a good thing to open an Italian restaurant in that city.  \n",
    "\n",
    "Hence the idea of this project. I would like to determine the best possible location to open an Italian restaurant based on the different localities of the city, already established Italian restaurant in varios geographical location and ease of accessibility by maximum number of people so that the revenue from the latest venture can be maximized.\n"
   ]
  },
  {
   "cell_type": "markdown",
   "metadata": {},
   "source": [
    "<h4> Data </h4>\n",
    "\n",
    "This project will use data from :\n",
    "- http://www.healthysf.org/bdi/outcomes/zipmap.htm - For getting information about Neighborhoods in San Francisco.\n",
    "- Geopy - For getting the co-ordinated of different locations.\n",
    "- Foursquare API - To get the list of vanues and their details around a given location."
   ]
  },
  {
   "cell_type": "code",
   "execution_count": 3,
   "metadata": {},
   "outputs": [
    {
     "name": "stdout",
     "output_type": "stream",
     "text": [
      "Requirement already satisfied: bs4 in /home/jupyterlab/conda/envs/python/lib/python3.6/site-packages (0.0.1)\n",
      "Requirement already satisfied: beautifulsoup4 in /home/jupyterlab/conda/envs/python/lib/python3.6/site-packages (from bs4) (4.9.3)\n",
      "Requirement already satisfied: soupsieve>1.2; python_version >= \"3.0\" in /home/jupyterlab/conda/envs/python/lib/python3.6/site-packages (from beautifulsoup4->bs4) (2.0.1)\n",
      "Collecting lxml\n",
      "\u001b[?25l  Downloading https://files.pythonhosted.org/packages/64/28/0b761b64ecbd63d272ed0e7a6ae6e4402fc37886b59181bfdf274424d693/lxml-4.6.1-cp36-cp36m-manylinux1_x86_64.whl (5.5MB)\n",
      "\u001b[K     |████████████████████████████████| 5.5MB 5.7MB/s eta 0:00:01\n",
      "\u001b[?25hInstalling collected packages: lxml\n",
      "Successfully installed lxml-4.6.1\n"
     ]
    }
   ],
   "source": [
    "import pandas as pd\n",
    "import numpy as np\n",
    "import requests\n",
    "!pip install bs4\n",
    "!pip install lxml\n",
    "from bs4 import BeautifulSoup\n",
    "import lxml\n"
   ]
  },
  {
   "cell_type": "code",
   "execution_count": 15,
   "metadata": {},
   "outputs": [
    {
     "name": "stdout",
     "output_type": "stream",
     "text": [
      "   Zip Code                             Neighborhood  Population (Census 2000)\n",
      "0     94102  Hayes Valley/Tenderloin/North of Market                     28991\n",
      "1     94103                          South of Market                     23016\n",
      "2     94107                             Potrero Hill                     17368\n",
      "3     94108                                Chinatown                     13716\n",
      "4     94109             Polk/Russian Hill (Nob Hill)                     56322\n",
      "5     94110             Inner Mission/Bernal Heights                     74633\n",
      "6     94112       Ingelside-Excelsior/Crocker-Amazon                     73104\n",
      "7     94114                        Castro/Noe Valley                     30574\n",
      "8     94115               Western Addition/Japantown                     33115\n",
      "9     94116                     Parkside/Forest Hill                     42958\n",
      "10    94117                           Haight-Ashbury                     38738\n",
      "11    94118                           Inner Richmond                     38939\n",
      "12    94121                           Outer Richmond                     42473\n",
      "13    94122                                   Sunset                     55492\n",
      "14    94123                                   Marina                     22903\n",
      "15    94124                    Bayview-Hunters Point                     33170\n",
      "16    94127    St. Francis Wood/Miraloma/West Portal                     20624\n",
      "17    94131                     Twin Peaks-Glen Park                     27897\n",
      "18    94132                              Lake Merced                     26291\n",
      "19    94133                    North Beach/Chinatown                     26827\n",
      "20    94134              Visitacion Valley/Sunnydale                     40134\n"
     ]
    }
   ],
   "source": [
    "response = requests.get(\"http://www.healthysf.org/bdi/outcomes/zipmap.htm\")\n",
    "df_raw = pd.read_html(response.content, header=0)[3]\n",
    "df_sf = df_raw[df_raw[\"Zip Code\"] != 'All Zips']\n",
    "\n",
    "print(df_sf)"
   ]
  },
  {
   "cell_type": "code",
   "execution_count": 16,
   "metadata": {},
   "outputs": [
    {
     "name": "stdout",
     "output_type": "stream",
     "text": [
      "Requirement already satisfied: uszipcode in /home/jupyterlab/conda/envs/python/lib/python3.6/site-packages (0.2.4)\n",
      "Requirement already satisfied: requests in /home/jupyterlab/conda/envs/python/lib/python3.6/site-packages (from uszipcode) (2.24.0)\n",
      "Requirement already satisfied: sqlalchemy in /home/jupyterlab/conda/envs/python/lib/python3.6/site-packages (from uszipcode) (1.3.19)\n",
      "Requirement already satisfied: attrs in /home/jupyterlab/conda/envs/python/lib/python3.6/site-packages (from uszipcode) (20.2.0)\n",
      "Requirement already satisfied: pathlib-mate in /home/jupyterlab/conda/envs/python/lib/python3.6/site-packages (from uszipcode) (1.0.0)\n",
      "Requirement already satisfied: idna<3,>=2.5 in /home/jupyterlab/conda/envs/python/lib/python3.6/site-packages (from requests->uszipcode) (2.10)\n",
      "Requirement already satisfied: certifi>=2017.4.17 in /home/jupyterlab/conda/envs/python/lib/python3.6/site-packages (from requests->uszipcode) (2020.6.20)\n",
      "Requirement already satisfied: urllib3!=1.25.0,!=1.25.1,<1.26,>=1.21.1 in /home/jupyterlab/conda/envs/python/lib/python3.6/site-packages (from requests->uszipcode) (1.25.10)\n",
      "Requirement already satisfied: chardet<4,>=3.0.2 in /home/jupyterlab/conda/envs/python/lib/python3.6/site-packages (from requests->uszipcode) (3.0.4)\n",
      "Requirement already satisfied: autopep8 in /home/jupyterlab/conda/envs/python/lib/python3.6/site-packages (from pathlib-mate->uszipcode) (1.5.4)\n",
      "Requirement already satisfied: six in /home/jupyterlab/conda/envs/python/lib/python3.6/site-packages (from pathlib-mate->uszipcode) (1.15.0)\n",
      "Requirement already satisfied: toml in /home/jupyterlab/conda/envs/python/lib/python3.6/site-packages (from autopep8->pathlib-mate->uszipcode) (0.10.1)\n",
      "Requirement already satisfied: pycodestyle>=2.6.0 in /home/jupyterlab/conda/envs/python/lib/python3.6/site-packages (from autopep8->pathlib-mate->uszipcode) (2.6.0)\n"
     ]
    },
    {
     "name": "stderr",
     "output_type": "stream",
     "text": [
      "/home/jupyterlab/conda/envs/python/lib/python3.6/site-packages/ipykernel_launcher.py:14: SettingWithCopyWarning: \n",
      "A value is trying to be set on a copy of a slice from a DataFrame.\n",
      "Try using .loc[row_indexer,col_indexer] = value instead\n",
      "\n",
      "See the caveats in the documentation: https://pandas.pydata.org/pandas-docs/stable/user_guide/indexing.html#returning-a-view-versus-a-copy\n",
      "  \n",
      "/home/jupyterlab/conda/envs/python/lib/python3.6/site-packages/ipykernel_launcher.py:15: SettingWithCopyWarning: \n",
      "A value is trying to be set on a copy of a slice from a DataFrame.\n",
      "Try using .loc[row_indexer,col_indexer] = value instead\n",
      "\n",
      "See the caveats in the documentation: https://pandas.pydata.org/pandas-docs/stable/user_guide/indexing.html#returning-a-view-versus-a-copy\n",
      "  from ipykernel import kernelapp as app\n",
      "/home/jupyterlab/conda/envs/python/lib/python3.6/site-packages/ipykernel_launcher.py:18: SettingWithCopyWarning: \n",
      "A value is trying to be set on a copy of a slice from a DataFrame\n",
      "\n",
      "See the caveats in the documentation: https://pandas.pydata.org/pandas-docs/stable/user_guide/indexing.html#returning-a-view-versus-a-copy\n"
     ]
    },
    {
     "data": {
      "text/html": [
       "<div>\n",
       "<style scoped>\n",
       "    .dataframe tbody tr th:only-of-type {\n",
       "        vertical-align: middle;\n",
       "    }\n",
       "\n",
       "    .dataframe tbody tr th {\n",
       "        vertical-align: top;\n",
       "    }\n",
       "\n",
       "    .dataframe thead th {\n",
       "        text-align: right;\n",
       "    }\n",
       "</style>\n",
       "<table border=\"1\" class=\"dataframe\">\n",
       "  <thead>\n",
       "    <tr style=\"text-align: right;\">\n",
       "      <th></th>\n",
       "      <th>Zip Code</th>\n",
       "      <th>Neighborhood</th>\n",
       "      <th>Population (Census 2000)</th>\n",
       "      <th>Latitude</th>\n",
       "      <th>Longitude</th>\n",
       "    </tr>\n",
       "  </thead>\n",
       "  <tbody>\n",
       "    <tr>\n",
       "      <th>0</th>\n",
       "      <td>94102</td>\n",
       "      <td>Hayes Valley/Tenderloin/North of Market</td>\n",
       "      <td>28991</td>\n",
       "      <td>37.780</td>\n",
       "      <td>-122.420</td>\n",
       "    </tr>\n",
       "    <tr>\n",
       "      <th>1</th>\n",
       "      <td>94103</td>\n",
       "      <td>South of Market</td>\n",
       "      <td>23016</td>\n",
       "      <td>37.780</td>\n",
       "      <td>-122.410</td>\n",
       "    </tr>\n",
       "    <tr>\n",
       "      <th>2</th>\n",
       "      <td>94107</td>\n",
       "      <td>Potrero Hill</td>\n",
       "      <td>17368</td>\n",
       "      <td>37.770</td>\n",
       "      <td>-122.390</td>\n",
       "    </tr>\n",
       "    <tr>\n",
       "      <th>3</th>\n",
       "      <td>94108</td>\n",
       "      <td>Chinatown</td>\n",
       "      <td>13716</td>\n",
       "      <td>37.791</td>\n",
       "      <td>-122.409</td>\n",
       "    </tr>\n",
       "    <tr>\n",
       "      <th>4</th>\n",
       "      <td>94109</td>\n",
       "      <td>Polk/Russian Hill (Nob Hill)</td>\n",
       "      <td>56322</td>\n",
       "      <td>37.790</td>\n",
       "      <td>-122.420</td>\n",
       "    </tr>\n",
       "  </tbody>\n",
       "</table>\n",
       "</div>"
      ],
      "text/plain": [
       "  Zip Code                             Neighborhood  Population (Census 2000)  \\\n",
       "0    94102  Hayes Valley/Tenderloin/North of Market                     28991   \n",
       "1    94103                          South of Market                     23016   \n",
       "2    94107                             Potrero Hill                     17368   \n",
       "3    94108                                Chinatown                     13716   \n",
       "4    94109             Polk/Russian Hill (Nob Hill)                     56322   \n",
       "\n",
       "   Latitude  Longitude  \n",
       "0    37.780   -122.420  \n",
       "1    37.780   -122.410  \n",
       "2    37.770   -122.390  \n",
       "3    37.791   -122.409  \n",
       "4    37.790   -122.420  "
      ]
     },
     "execution_count": 16,
     "metadata": {},
     "output_type": "execute_result"
    }
   ],
   "source": [
    "!pip install uszipcode\n",
    "from uszipcode import SearchEngine\n",
    "\n",
    "search = SearchEngine(simple_zipcode=True)\n",
    "\n",
    "latitude = []\n",
    "longitude = []\n",
    "\n",
    "for index, row in df_sf.iterrows():\n",
    "    zipcode = search.by_zipcode(row[\"Zip Code\"]).to_dict()\n",
    "    latitude.append(zipcode.get(\"lat\"))\n",
    "    longitude.append(zipcode.get(\"lng\"))\n",
    "    df_sf[\"Latitude\"] = latitude\n",
    "    df_sf[\"Longitude\"] = longitude\n",
    "\n",
    "# Drop any null values\n",
    "df_sf.dropna(inplace=True)\n",
    "df_sf.head()"
   ]
  },
  {
   "cell_type": "code",
   "execution_count": null,
   "metadata": {},
   "outputs": [],
   "source": []
  }
 ],
 "metadata": {
  "kernelspec": {
   "display_name": "Python",
   "language": "python",
   "name": "conda-env-python-py"
  },
  "language_info": {
   "codemirror_mode": {
    "name": "ipython",
    "version": 3
   },
   "file_extension": ".py",
   "mimetype": "text/x-python",
   "name": "python",
   "nbconvert_exporter": "python",
   "pygments_lexer": "ipython3",
   "version": "3.6.11"
  }
 },
 "nbformat": 4,
 "nbformat_minor": 4
}
